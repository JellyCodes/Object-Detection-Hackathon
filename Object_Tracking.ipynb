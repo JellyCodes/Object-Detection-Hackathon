{
 "cells": [
  {
   "cell_type": "code",
   "execution_count": null,
   "metadata": {
    "id": "WOLXbyqA-jd2",
    "scrolled": false
   },
   "outputs": [],
   "source": [
    "import os\n",
    "import cv2\n",
    "import tensorflow as tf"
   ]
  },
  {
   "cell_type": "code",
   "execution_count": null,
   "metadata": {
    "id": "xLfbUaht-jd4"
   },
   "outputs": [],
   "source": [
    "import wget"
   ]
  },
  {
   "cell_type": "code",
   "execution_count": null,
   "metadata": {
    "id": "t-CVxg1w-jd5"
   },
   "outputs": [],
   "source": [
    "PRETRAINED_MODEL_NAME = \"ssd_mobilenet_v2_fpnlite_320x320_coco17_tpu-8\"\n",
    "PRETRAINED_MODEL_URL = \"http://download.tensorflow.org/models/object_detection/tf2/20200711/ssd_mobilenet_v2_fpnlite_320x320_coco17_tpu-8.tar.gz\""
   ]
  },
  {
   "cell_type": "code",
   "execution_count": null,
   "metadata": {
    "id": "w373oyEg-jd5"
   },
   "outputs": [],
   "source": [
    "#setting the needed paths\n",
    "paths = {\n",
    "    'WORKSPACE_PATH': os.path.join('hackathon', 'workspace'),\n",
    "    'MODEL_API_PATH': os.path.join('hackathon','models'),\n",
    "    'PROTOC_PATH': os.path.join('hackathon','protoc'),\n",
    "    'PRETRAINED_MODEL_PATH': os.path.join('hackathon','workspace', 'pre-trained_model'),\n",
    "    'IMAGE_PATH': os.path.join('hackathon','workspace', 'images'),\n",
    "    'TEST_IMAGE_PATH': os.path.join('hackathon', 'workspace', 'images', 'test')\n",
    "    }"
   ]
  },
  {
   "cell_type": "code",
   "execution_count": null,
   "metadata": {
    "id": "KSme_G6s-jd_"
   },
   "outputs": [],
   "source": [
    "PIPELINE_CONFIG = os.path.join('hackathon', 'workspace','model', CUSTOM_MODEL_NAME, 'pipeline.config')"
   ]
  },
  {
   "cell_type": "code",
   "execution_count": null,
   "metadata": {
    "id": "yv9jnuRq-jd6"
   },
   "outputs": [],
   "source": [
    "for path in paths.values():\n",
    "    if not os.path.exists(path):\n",
    "        if os.name == 'posix':\n",
    "            !mkdir -p {path}\n",
    "        if os.name == 'nt':\n",
    "            !mkdir {path}"
   ]
  },
  {
   "cell_type": "code",
   "execution_count": null,
   "metadata": {},
   "outputs": [],
   "source": [
    "if not os.path.exists(os.path.join(paths['MODEL_API_PATH'], 'research', 'object_detection')):\n",
    "    #this will clone the model api to our specified model path\n",
    "    !git clone https://github.com/tensorflow/models {paths['MODEL_API_PATH']}"
   ]
  },
  {
   "cell_type": "code",
   "execution_count": null,
   "metadata": {},
   "outputs": [],
   "source": [
    "if os.name=='nt':\n",
    "    url=\"https://github.com/protocolbuffers/protobuf/releases/download/v3.15.6/protoc-3.15.6-win64.zip\"\n",
    "    wget.download(url)\n",
    "    !mv protoc-3.15.6-win64.zip {paths['PROTOC_PATH']}\n",
    "    !cd {paths['PROTOC_PATH']} && unzip protoc-3.15.6-win64.zip\n",
    "    os.environ['PATH'] += os.pathsep + os.path.abspath(os.path.join(paths['PROTOC_PATH'], 'bin'))   \n",
    "    !cd hackathon/models/research && protoc object_detection/protos/*.proto --python_out=. && cp object_detection/packages/tf2/setup.py setup.py && python setup.py build && python setup.py install\n",
    "    !cd hackathon/models/research/slim && pip install -e ."
   ]
  },
  {
   "cell_type": "code",
   "execution_count": null,
   "metadata": {},
   "outputs": [],
   "source": []
  },
  {
   "cell_type": "markdown",
   "metadata": {
    "id": "p4Jf72xZ-jeK"
   },
   "source": [
    "## Trained Model Loading"
   ]
  },
  {
   "cell_type": "code",
   "execution_count": null,
   "metadata": {
    "id": "XQbxJuCf-jeC"
   },
   "outputs": [],
   "source": [
    "import object_detection\n",
    "from object_detection.utils import config_util\n",
    "from object_detection.protos import pipeline_pb2\n",
    "from google.protobuf import text_format"
   ]
  },
  {
   "cell_type": "code",
   "execution_count": null,
   "metadata": {
    "id": "ctlxAf1z-jeK"
   },
   "outputs": [],
   "source": [
    "from object_detection.utils import label_map_util\n",
    "from object_detection.utils import visualization_utils as vis_utils\n",
    "from object_detection.builders import model_builder"
   ]
  },
  {
   "cell_type": "code",
   "execution_count": null,
   "metadata": {
    "id": "-2o1omuO-jeL"
   },
   "outputs": [],
   "source": [
    "# building the detection model\n",
    "config = config_util.get_configs_from_pipeline_file(os.path.join(paths['PRETRAINED_MODEL_PATH'], PRETRAINED_MODEL_NAME, 'pipeline.config'))\n",
    "model = model_builder.build(model_config=config['model'], is_training=False)"
   ]
  },
  {
   "cell_type": "code",
   "execution_count": null,
   "metadata": {
    "id": "fwnmiLVa-jeL"
   },
   "outputs": [],
   "source": [
    "# restore checkpoint from disk to use for detection\n",
    "checkpoint= tf.compat.v2.train.Checkpoint(model)\n",
    "checkpoint_path = os.path.join(paths['PRETRAINED_MODEL_PATH'], PRETRAINED_MODEL_NAME, 'checkpoint', 'ckpt-0')\n",
    "checkpoint.restore(checkpoint_path).expect_partial() # expect_partial() to avoid warning of unused checkpoint indexes"
   ]
  },
  {
   "cell_type": "code",
   "execution_count": null,
   "metadata": {
    "id": "vTz6M8Ah-jeM"
   },
   "outputs": [],
   "source": [
    "@tf.function #converts the code below to tensorflow graph function for better performance\n",
    "def detection_fn(image):\n",
    "    image, shape = model.preprocess(image)\n",
    "    prediction = model.predict(image, shape)\n",
    "    detection = model.postprocess(prediction, shape)\n",
    "    return detection"
   ]
  },
  {
   "cell_type": "markdown",
   "metadata": {},
   "source": [
    "## Label map loading"
   ]
  },
  {
   "cell_type": "code",
   "execution_count": null,
   "metadata": {},
   "outputs": [],
   "source": [
    "LABELMAP_NAME = \"mscoco_label_map.pbtxt\""
   ]
  },
  {
   "cell_type": "code",
   "execution_count": null,
   "metadata": {},
   "outputs": [],
   "source": [
    "label_map = label_map_util.load_labelmap(os.path.join(paths['MODEL_API_PATH'], 'research', 'object_detection', 'data', LABELMAP_NAME))"
   ]
  },
  {
   "cell_type": "code",
   "execution_count": null,
   "metadata": {},
   "outputs": [],
   "source": [
    "categories = label_map_util.convert_label_map_to_categories(label_map, max_num_classes=90, use_display_name=True)"
   ]
  },
  {
   "cell_type": "code",
   "execution_count": null,
   "metadata": {},
   "outputs": [],
   "source": [
    "category_index = label_map_util.create_category_index(categories)"
   ]
  },
  {
   "cell_type": "markdown",
   "metadata": {
    "id": "RdkBPzpD-jeM"
   },
   "source": [
    "## Detecting from an image"
   ]
  },
  {
   "cell_type": "code",
   "execution_count": null,
   "metadata": {
    "id": "TcZ4cSmC-jeN"
   },
   "outputs": [],
   "source": [
    "import numpy as np\n",
    "import matplotlib.pyplot as plt\n",
    "from object_detection.utils import label_map_util\n",
    "%matplotlib inline"
   ]
  },
  {
   "cell_type": "code",
   "execution_count": null,
   "metadata": {
    "id": "HLHSvjXE-jeO"
   },
   "outputs": [],
   "source": [
    "IMAGE_PATH = os.path.join(paths['TEST_IMAGE_PATH'], '15.avi_snapshot_05.57_[2021.06.22_02.34.23].jpg')"
   ]
  },
  {
   "cell_type": "code",
   "execution_count": null,
   "metadata": {
    "scrolled": true
   },
   "outputs": [],
   "source": [
    "#print(image[0][:10])"
   ]
  },
  {
   "cell_type": "code",
   "execution_count": null,
   "metadata": {},
   "outputs": [],
   "source": [
    "#print(result_dict)"
   ]
  },
  {
   "cell_type": "code",
   "execution_count": null,
   "metadata": {
    "scrolled": true
   },
   "outputs": [],
   "source": [
    "#print(boxes)"
   ]
  },
  {
   "cell_type": "code",
   "execution_count": null,
   "metadata": {},
   "outputs": [],
   "source": [
    "#print(scores)"
   ]
  },
  {
   "cell_type": "code",
   "execution_count": null,
   "metadata": {
    "scrolled": false
   },
   "outputs": [],
   "source": [
    "#print(classes)"
   ]
  },
  {
   "cell_type": "code",
   "execution_count": null,
   "metadata": {},
   "outputs": [],
   "source": [
    "#print(result_dict['num_detections'])"
   ]
  },
  {
   "cell_type": "code",
   "execution_count": null,
   "metadata": {
    "id": "IOpmqvvP-jeP",
    "scrolled": false
   },
   "outputs": [],
   "source": [
    "image = cv2.imread(IMAGE_PATH)\n",
    "converted_img = np.array(image)\n",
    "\n",
    "input_tensor = tf.convert_to_tensor(np.expand_dims(converted_img, 0), dtype=tf.float32)\n",
    "\n",
    "detections = detection_fn(input_tensor)\n",
    "num_detections = int(detections.pop('num_detections'))\n",
    "\n",
    "detections = {key: value[0, :num_detections].numpy() for key, value in detections.items()}\n",
    "detections['num_detections'] = num_detections\n",
    "detections['detection_classes'] = detections['detection_classes'].astype(np.int64)\n",
    "\n",
    "boxes = detections['detection_boxes']\n",
    "classes = detections['detection_classes']\n",
    "scores = detections['detection_scores']\n",
    "\n",
    "\n",
    "vis_utils.visualize_boxes_and_labels_on_image_array(\n",
    "    converted_img,\n",
    "    boxes,\n",
    "    classes+1,\n",
    "    scores,\n",
    "    category_index,\n",
    "    use_normalized_coordinates=True,\n",
    "    max_boxes_to_draw=10,\n",
    "    min_score_thresh=0,\n",
    "    line_thickness=5,\n",
    "    agnostic_mode=False\n",
    "    )\n",
    "\n",
    "rect_image = cv2.cvtColor(converted_img, cv2.COLOR_BGR2RGB)\n",
    "plt.imshow(rect_image)\n",
    "plt.show()"
   ]
  }
 ],
 "metadata": {
  "accelerator": "GPU",
  "colab": {
   "name": "Object Tracking.ipynb",
   "provenance": []
  },
  "kernelspec": {
   "display_name": "Python 3",
   "language": "python",
   "name": "python3"
  },
  "language_info": {
   "codemirror_mode": {
    "name": "ipython",
    "version": 3
   },
   "file_extension": ".py",
   "mimetype": "text/x-python",
   "name": "python",
   "nbconvert_exporter": "python",
   "pygments_lexer": "ipython3",
   "version": "3.8.5"
  }
 },
 "nbformat": 4,
 "nbformat_minor": 1
}
